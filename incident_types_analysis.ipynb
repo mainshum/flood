{
 "cells": [
  {
   "cell_type": "code",
   "execution_count": 6,
   "metadata": {},
   "outputs": [],
   "source": [
    "# Cell 1 - Markdown\n",
    "# Flood Incident Types Analysis\n",
    "\n",
    "import pandas as pd\n",
    "import glob\n",
    "import os"
   ]
  },
  {
   "cell_type": "code",
   "execution_count": 31,
   "metadata": {},
   "outputs": [],
   "source": [
    "notebook_dir = os.path.dirname(os.path.abspath('__file__'))\n",
    "DEST = os.path.join(notebook_dir, 'dest')\n",
    "\n",
    "def get_col_vals(filename, colname):\n",
    "    df = pd.read_csv(filename)\n",
    "    vals =  df[colname].values\n",
    "    return pd.Series(vals).dropna()"
   ]
  },
  {
   "cell_type": "markdown",
   "metadata": {},
   "source": [
    "# Penon \n",
    "Assuming that EIR25077 contains all the data for this municipality. incident_types are extracted from the file"
   ]
  },
  {
   "cell_type": "code",
   "execution_count": 33,
   "metadata": {},
   "outputs": [
    {
     "name": "stdout",
     "output_type": "stream",
     "text": [
      "Blockage paper rag: 22656\n",
      "Blockage fat: 3074\n",
      "Blockage silt: 667\n",
      "Blockage non sewage debris: 5682\n",
      "Blockage roots: 2764\n",
      "Collapse/burst: 840\n",
      "Partial collapse: 1594\n",
      "Partial collapse: 95\n",
      "Equipment failure: 203\n",
      "Hydraulic overload: 3832\n",
      "Hydraulically overloaded pumping station: 204\n",
      "Sewer condition: 1800\n",
      "Third party damage: 44\n",
      "Pump station blockage: 55\n",
      "Pump station breakdown: 229\n"
     ]
    }
   ],
   "source": [
    "vals_external = get_col_vals(os.path.join(DEST, 'penon', 'EIR25077_External Sewer Floodings2010-23.csv'), 'Flooding Cause')\n",
    "vals_internal = get_col_vals(os.path.join(DEST, 'penon', 'EIR25077_Internal Sewer Floodings2010-23.csv'), 'Flooding Cause')\n",
    "vals = pd.concat([vals_external, vals_internal]).values\n",
    "\n",
    "incident_types = {\n",
    "    'BLPR': 'Blockage paper rag',\n",
    "    'BLFT': 'Blockage fat', \n",
    "    'BLST': 'Blockage silt',\n",
    "    'BLDB': 'Blockage non sewage debris',\n",
    "    'BLRT': 'Blockage roots',\n",
    "    'CLBU': 'Collapse/burst',\n",
    "    'PACB': 'Partial collapse',\n",
    "    'PTCB': 'Partial collapse', \n",
    "    'EQFL': 'Equipment failure',\n",
    "    'HYOL': 'Hydraulic overload',\n",
    "    'HOPS': 'Hydraulically overloaded pumping station',\n",
    "    'SEWC': 'Sewer condition',\n",
    "    'TPDM': 'Third party damage',\n",
    "    'PSBL': 'Pump station blockage',\n",
    "    'PSBR': 'Pump station breakdown'\n",
    "}\n",
    "\n",
    "counts = {key: 0 for key in incident_types}\n",
    "[counts.update({val: counts[val] + 1}) for val in vals if val in incident_types]\n",
    "\n",
    "for key, value in counts.items():\n",
    "    print(f\"{incident_types[key]}: {value}\")"
   ]
  }
 ],
 "metadata": {
  "kernelspec": {
   "display_name": ".venv",
   "language": "python",
   "name": "python3"
  },
  "language_info": {
   "codemirror_mode": {
    "name": "ipython",
    "version": 3
   },
   "file_extension": ".py",
   "mimetype": "text/x-python",
   "name": "python",
   "nbconvert_exporter": "python",
   "pygments_lexer": "ipython3",
   "version": "3.13.0"
  }
 },
 "nbformat": 4,
 "nbformat_minor": 2
}
