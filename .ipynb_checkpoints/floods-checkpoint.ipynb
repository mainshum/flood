{
 "cells": [
  {
   "cell_type": "code",
   "execution_count": 1,
   "id": "0655c691-4766-4036-a14a-63dcc4cf89ee",
   "metadata": {},
   "outputs": [],
   "source": [
    "import pandas as pd\n",
    "import os\n",
    "import pandas as pd\n",
    "import argparse\n",
    "from pathlib import Path\n",
    "\n",
    "def read(file, sheet):\n",
    "    excel_path = pd.ExcelFile(file)\n",
    "    return pd.read_excel(excel_path, sheet_name=sheet)"
   ]
  },
  {
   "cell_type": "code",
   "execution_count": 63,
   "id": "451e82d7-cd39-4567-803e-48a6dca8c7c2",
   "metadata": {},
   "outputs": [],
   "source": [
    "# anglian water"
   ]
  },
  {
   "cell_type": "code",
   "execution_count": 57,
   "id": "115a7af6-1686-493d-bf1b-51e70ac8c59b",
   "metadata": {},
   "outputs": [],
   "source": [
    "data = read(\"source/Anglian Water/Flooding data 2010 to 2020.xlsx\", \"Data Request\")\n",
    "\n",
    "legend = {\n",
    "    'B': 'Blockage',\n",
    "    'C': 'Collapse',\n",
    "    'E': 'Equipment Failure',\n",
    "    'O': 'Overloaded',\n",
    "    'P': 'Pumping Station Failure',\n",
    "    'W': 'Pumping Station Failure due to 3rd party',\n",
    "    'X': 'Collapse due to 3rd party'\n",
    "}\n",
    "\n",
    "for i in range(len(data)):\n",
    "    cc = data.loc[i, \"Cause code\"]\n",
    "    if cc in legend.keys():\n",
    "        data.loc[i, \"Cause code\"] = legend[cc]\n",
    "\n"
   ]
  },
  {
   "cell_type": "code",
   "execution_count": 61,
   "id": "a5bfc14d-a174-4507-a43a-d2e487b1d043",
   "metadata": {},
   "outputs": [
    {
     "name": "stdout",
     "output_type": "stream",
     "text": [
      "  Incident date               Cause code  Sewer type Weather  Spill Size  \\\n",
      "0    2010-01-01  Pumping Station Failure         NaN     NaN         2.0   \n",
      "1    2010-01-01  Pumping Station Failure         NaN     NaN         2.0   \n",
      "2    2010-01-01                 Collapse  Foul Sewer     Dry         1.0   \n",
      "3    2010-01-01                 Blockage  Foul Sewer     Dry         1.0   \n",
      "4    2010-01-01                 Blockage  Foul Sewer     Dry         3.0   \n",
      "\n",
      "   Flooding type  Flooding sub type    District              City  \n",
      "0              3                  8        Over         CAMBRIDGE  \n",
      "1              3                 10    Hanslope     MILTON KEYNES  \n",
      "2              3                 10    Bar Hill         CAMBRIDGE  \n",
      "3              3                  4  Toddington         DUNSTABLE  \n",
      "4              3                 10         NaN  BURY ST. EDMUNDS  \n"
     ]
    }
   ],
   "source": [
    "print(data.head())"
   ]
  }
 ],
 "metadata": {
  "kernelspec": {
   "display_name": "Python 3 (ipykernel)",
   "language": "python",
   "name": "python3"
  },
  "language_info": {
   "codemirror_mode": {
    "name": "ipython",
    "version": 3
   },
   "file_extension": ".py",
   "mimetype": "text/x-python",
   "name": "python",
   "nbconvert_exporter": "python",
   "pygments_lexer": "ipython3",
   "version": "3.9.20"
  }
 },
 "nbformat": 4,
 "nbformat_minor": 5
}
